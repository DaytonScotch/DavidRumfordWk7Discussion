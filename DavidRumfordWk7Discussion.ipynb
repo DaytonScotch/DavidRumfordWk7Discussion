{
  "nbformat": 4,
  "nbformat_minor": 0,
  "metadata": {
    "colab": {
      "provenance": []
    },
    "kernelspec": {
      "name": "python3",
      "display_name": "Python 3"
    },
    "language_info": {
      "name": "python"
    }
  },
  "cells": [
    {
      "cell_type": "code",
      "execution_count": 6,
      "metadata": {
        "id": "0hJHFYWbE_X9"
      },
      "outputs": [],
      "source": [
        "#David Rumford\n",
        "#Cs 4410\n",
        "#Week 7 Discussion\n",
        "#Exercise 12.3"
      ]
    },
    {
      "cell_type": "code",
      "source": [
        "#download a news article to analyze\n",
        "import requests\n",
        "response = requests.get(\"https://www.theguardian.com/law/2023/oct/01/biden-supreme-court-maga\")"
      ],
      "metadata": {
        "id": "IlRGZkhyFSOM"
      },
      "execution_count": 7,
      "outputs": []
    },
    {
      "cell_type": "code",
      "source": [
        "#create a TextBlob from the article\n",
        "from textblob import TextBlob\n",
        "text = TextBlob(response.text)"
      ],
      "metadata": {
        "id": "oD7xz1ViF6Oc"
      },
      "execution_count": 8,
      "outputs": []
    },
    {
      "cell_type": "code",
      "source": [
        "#print the sentiment of the entire article\n",
        "print(text.sentiment)"
      ],
      "metadata": {
        "colab": {
          "base_uri": "https://localhost:8080/"
        },
        "id": "H-7JX-0YGMVo",
        "outputId": "dcce22f5-6263-4292-e76b-ebeada4f46b3"
      },
      "execution_count": 9,
      "outputs": [
        {
          "output_type": "stream",
          "name": "stdout",
          "text": [
            "Sentiment(polarity=0.06126519082769121, subjectivity=0.4981999204499211)\n"
          ]
        }
      ]
    },
    {
      "cell_type": "code",
      "source": [
        "#print the sentiment of each sentence\n",
        "import nltk\n",
        "nltk.download('punkt')\n",
        "for sentence in text.sentences:\n",
        "  print(sentence.sentiment)"
      ],
      "metadata": {
        "colab": {
          "base_uri": "https://localhost:8080/"
        },
        "id": "uKLXIt1_GXvX",
        "outputId": "60211649-587a-456a-cbe6-77e7648965be"
      },
      "execution_count": 10,
      "outputs": [
        {
          "output_type": "stream",
          "name": "stderr",
          "text": [
            "[nltk_data] Downloading package punkt to /root/nltk_data...\n",
            "[nltk_data]   Unzipping tokenizers/punkt.zip.\n"
          ]
        },
        {
          "output_type": "stream",
          "name": "stdout",
          "text": [
            "Sentiment(polarity=0.0, subjectivity=0.0)\n",
            "Sentiment(polarity=0.04130102040816322, subjectivity=0.6929183673469393)\n",
            "Sentiment(polarity=0.10813356164383578, subjectivity=0.6575342465753429)\n",
            "Sentiment(polarity=0.3, subjectivity=0.0)\n",
            "Sentiment(polarity=0.09166666666666663, subjectivity=0.4791666666666667)\n",
            "Sentiment(polarity=0.0934343434343434, subjectivity=0.44570707070707083)\n",
            "Sentiment(polarity=0.03804347826086957, subjectivity=0.15978260869565192)\n",
            "Sentiment(polarity=0.0, subjectivity=0.0)\n",
            "Sentiment(polarity=0.0, subjectivity=0.0)\n",
            "Sentiment(polarity=0.0, subjectivity=0.0)\n",
            "Sentiment(polarity=0.0, subjectivity=0.0)\n",
            "Sentiment(polarity=0.0, subjectivity=0.0)\n",
            "Sentiment(polarity=0.0, subjectivity=0.0)\n",
            "Sentiment(polarity=0.13200187969924804, subjectivity=0.3127401837928156)\n",
            "Sentiment(polarity=0.20441176470588232, subjectivity=0.6156862745098041)\n",
            "Sentiment(polarity=-0.175, subjectivity=0.40588235294117636)\n",
            "Sentiment(polarity=-0.1340909090909091, subjectivity=0.4909090909090908)\n",
            "Sentiment(polarity=-0.16964285714285715, subjectivity=0.44999999999999984)\n",
            "Sentiment(polarity=-0.15833333333333333, subjectivity=0.4199999999999999)\n",
            "Sentiment(polarity=-0.10737179487179484, subjectivity=0.4378205128205128)\n",
            "Sentiment(polarity=-0.06702127659574467, subjectivity=0.4414893617021277)\n",
            "Sentiment(polarity=0.03607142857142856, subjectivity=0.4660714285714286)\n",
            "Sentiment(polarity=0.4916666666666667, subjectivity=0.5083333333333333)\n",
            "Sentiment(polarity=-0.02857142857142858, subjectivity=0.27142857142857146)\n",
            "Sentiment(polarity=0.1438946922642575, subjectivity=0.46914172783737995)\n",
            "Sentiment(polarity=0.021527777777777774, subjectivity=0.351984126984127)\n",
            "Sentiment(polarity=0.5, subjectivity=0.5)\n",
            "Sentiment(polarity=0.325, subjectivity=0.45)\n",
            "Sentiment(polarity=0.15869542886492038, subjectivity=0.3509406412796243)\n",
            "Sentiment(polarity=0.0, subjectivity=0.0)\n",
            "Sentiment(polarity=0.0, subjectivity=0.0)\n"
          ]
        }
      ]
    }
  ]
}